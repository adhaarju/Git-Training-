{
 "cells": [
  {
   "cell_type": "code",
   "execution_count": 50,
   "id": "a2a00a27",
   "metadata": {},
   "outputs": [
    {
     "name": "stdout",
     "output_type": "stream",
     "text": [
      "['apple', 'orange', 'banana', 'watermelon', 'pineapple']\n"
     ]
    }
   ],
   "source": [
    "fruits=[\"apple\",\"orange\",\"banana\",\"watermelon\",\"pineapple\"]\n",
    "print(fruits)"
   ]
  },
  {
   "cell_type": "code",
   "execution_count": null,
   "id": "9741f2e8",
   "metadata": {},
   "outputs": [],
   "source": []
  },
  {
   "cell_type": "code",
   "execution_count": 83,
   "id": "56533ac3",
   "metadata": {},
   "outputs": [
    {
     "name": "stdout",
     "output_type": "stream",
     "text": [
      "2\n"
     ]
    }
   ],
   "source": [
    "t=(1,2,(3,4),[\"a\",\"b\"])\n",
    "print(t[1])"
   ]
  },
  {
   "cell_type": "code",
   "execution_count": 94,
   "id": "60ab8261",
   "metadata": {},
   "outputs": [
    {
     "name": "stdout",
     "output_type": "stream",
     "text": [
      "banana\n",
      "['banana', 'mango', 'apple', 'orange', 'banana', 'mango', 'apple', 'orange', 'banana', 'mango', 'apple', 'orange', 'banana', 'mango', 'apple', 'orange', 'banana', 'mango', 'apple', 'orange']\n",
      "mango\n",
      "['banana', 'mango', 'apple', 'orange', 'banana', 'mango', 'apple', 'orange', 'banana', 'mango', 'apple', 'orange', 'banana', 'mango', 'apple', 'orange', 'banana', 'mango', 'apple', 'orange']\n",
      "apple\n",
      "['banana', 'mango', 'apple', 'orange', 'banana', 'mango', 'apple', 'orange', 'banana', 'mango', 'apple', 'orange', 'banana', 'mango', 'apple', 'orange', 'banana', 'mango', 'apple', 'orange']\n",
      "orange\n",
      "['banana', 'mango', 'apple', 'orange', 'banana', 'mango', 'apple', 'orange', 'banana', 'mango', 'apple', 'orange', 'banana', 'mango', 'apple', 'orange', 'banana', 'mango', 'apple', 'orange']\n"
     ]
    }
   ],
   "source": [
    "i=0 \n",
    "while i<len(fruits):\n",
    "    print(fruits[i])\n",
    "    i=i+1\n",
    "    print(fruits*5)"
   ]
  },
  {
   "cell_type": "code",
   "execution_count": 130,
   "id": "9a9ca935",
   "metadata": {},
   "outputs": [
    {
     "name": "stdout",
     "output_type": "stream",
     "text": [
      "{'name': 'alice', 'age': 26, 'city': 'london', 'job': 'engineering'}\n"
     ]
    }
   ],
   "source": [
    "#adding and updating\n",
    "student[\"job\"]=\"engineering\"\n",
    "student[\"age\"]=26\n",
    "print(student)"
   ]
  },
  {
   "cell_type": "code",
   "execution_count": 133,
   "id": "41787134",
   "metadata": {},
   "outputs": [
    {
     "name": "stdout",
     "output_type": "stream",
     "text": [
      "name\n",
      "age\n",
      "job\n",
      "alice\n",
      "26\n",
      "engineering\n",
      "name alice\n",
      "age 26\n",
      "job engineering\n"
     ]
    }
   ],
   "source": [
    "for key in student:\n",
    "    print(key)\n",
    "for value in student.values():\n",
    "    print(value)\n",
    "for key, value in student.items():\n",
    "    print(key, value)"
   ]
  },
  {
   "cell_type": "code",
   "execution_count": 139,
   "id": "b119d74e",
   "metadata": {},
   "outputs": [
    {
     "name": "stdout",
     "output_type": "stream",
     "text": [
      "{0: 0, 1: 1, 2: 4, 3: 9, 4: 16}\n"
     ]
    }
   ],
   "source": [
    "squares={x:x*x for x in range(5)}\n",
    "print(squares)"
   ]
  },
  {
   "cell_type": "code",
   "execution_count": 137,
   "id": "2e0a233f",
   "metadata": {},
   "outputs": [
    {
     "name": "stdout",
     "output_type": "stream",
     "text": [
      "{'student1': {'name': 'alice', 'age': 20}, 'student2': {'name': 'aarju', 'age': 20}}\n"
     ]
    }
   ],
   "source": [
    "student={\n",
    "    \"student1\":{\"name\":\"alice\",\"age\":20},\n",
    "    \"student2\":{\"name\":\"aarju\",\"age\":20}\n",
    "\n",
    "}\n",
    "print(student)"
   ]
  },
  {
   "cell_type": "code",
   "execution_count": 135,
   "id": "611888a4",
   "metadata": {},
   "outputs": [
    {
     "ename": "AttributeError",
     "evalue": "'dict' object has no attribute 'value'",
     "output_type": "error",
     "traceback": [
      "\u001b[31m---------------------------------------------------------------------------\u001b[39m",
      "\u001b[31mAttributeError\u001b[39m                            Traceback (most recent call last)",
      "\u001b[36mCell\u001b[39m\u001b[36m \u001b[39m\u001b[32mIn[135]\u001b[39m\u001b[32m, line 2\u001b[39m\n\u001b[32m      1\u001b[39m \u001b[38;5;66;03m#checking if a key exist in dict\u001b[39;00m\n\u001b[32m----> \u001b[39m\u001b[32m2\u001b[39m \u001b[38;5;28;01mif\u001b[39;00m \u001b[33m\"\u001b[39m\u001b[33malice\u001b[39m\u001b[33m\"\u001b[39m \u001b[38;5;129;01min\u001b[39;00m \u001b[43mstudent\u001b[49m\u001b[43m.\u001b[49m\u001b[43mvalue\u001b[49m():\n\u001b[32m      3\u001b[39m     \u001b[38;5;28mprint\u001b[39m(\u001b[33m\"\u001b[39m\u001b[33mname exists\u001b[39m\u001b[33m\"\u001b[39m)\n\u001b[32m      4\u001b[39m \u001b[38;5;28;01melse\u001b[39;00m:\n",
      "\u001b[31mAttributeError\u001b[39m: 'dict' object has no attribute 'value'"
     ]
    }
   ],
   "source": [
    "#checking if a key exist in dict\n",
    "if \"alice\" in student.value():\n",
    "    print(\"name exists\")\n",
    "else:\n",
    "    print(\"name doesn't exists\")"
   ]
  },
  {
   "cell_type": "code",
   "execution_count": 131,
   "id": "ae56e9be",
   "metadata": {},
   "outputs": [
    {
     "name": "stdout",
     "output_type": "stream",
     "text": [
      "{'name': 'alice', 'age': 26, 'job': 'engineering'}\n"
     ]
    }
   ],
   "source": [
    "#remove\n",
    "del student[\"city\"]\n",
    "print(student)\n"
   ]
  },
  {
   "cell_type": "code",
   "execution_count": 129,
   "id": "45acaa3b",
   "metadata": {},
   "outputs": [
    {
     "name": "stdout",
     "output_type": "stream",
     "text": [
      "20\n",
      "20\n",
      "['__class__', '__class_getitem__', '__contains__', '__delattr__', '__delitem__', '__dir__', '__doc__', '__eq__', '__format__', '__ge__', '__getattribute__', '__getitem__', '__getstate__', '__gt__', '__hash__', '__init__', '__init_subclass__', '__ior__', '__iter__', '__le__', '__len__', '__lt__', '__ne__', '__new__', '__or__', '__reduce__', '__reduce_ex__', '__repr__', '__reversed__', '__ror__', '__setattr__', '__setitem__', '__sizeof__', '__str__', '__subclasshook__', 'clear', 'copy', 'fromkeys', 'get', 'items', 'keys', 'pop', 'popitem', 'setdefault', 'update', 'values']\n",
      "{'name': 'alice', 'age': 30, 'city': 'london'}\n"
     ]
    }
   ],
   "source": [
    "student= {\n",
    "    1:\"first\",\n",
    "    \"name\":\"alice\",\n",
    "    \"age\":20,\n",
    "    \"course\":[\"maths\",\"java\"]\n",
    "}\n",
    "print(student[\"age\"])\n",
    "print(student.get(\"age\"))\n",
    "print(dir(student))\n",
    "student =dict(name=\"alice\",age=30, city=\"london\")\n",
    "print(student)"
   ]
  },
  {
   "cell_type": "code",
   "execution_count": 89,
   "id": "fb2fc953",
   "metadata": {},
   "outputs": [
    {
     "name": "stdout",
     "output_type": "stream",
     "text": [
      "Yes, we have apples!\n"
     ]
    }
   ],
   "source": [
    "\n",
    "fruits = [\"banana\", \"mango\", \"apple\", \"orange\"]\n",
    "\n",
    "if \"apple\" in fruits:\n",
    "    print(\"Yes, we have apples!\")\n",
    "else:\n",
    "    print(\"No, we don't have apples.\")"
   ]
  },
  {
   "cell_type": "code",
   "execution_count": 87,
   "id": "b2443ae9",
   "metadata": {},
   "outputs": [
    {
     "name": "stdout",
     "output_type": "stream",
     "text": [
      "[1, 'hello', 3.14, True] (1, 'hello', 3.14, True) {1, 3.14, 'hello'}\n"
     ]
    }
   ],
   "source": [
    "list=[1,\"hello\",3.14,True]\n",
    "tuple=(1,\"hello\",3.14,True)\n",
    "set ={1,\"hello\",3.14,True}\n",
    "print(list,tuple,set)"
   ]
  },
  {
   "cell_type": "code",
   "execution_count": 81,
   "id": "94a0e046",
   "metadata": {},
   "outputs": [
    {
     "name": "stdout",
     "output_type": "stream",
     "text": [
      "apple\n",
      "['watermelon', 'banana']\n",
      "orange\n",
      "('apple', 'orange', 'watermelon', 'banana')\n"
     ]
    }
   ],
   "source": [
    "fruits=(\"apple\",\"orange\",\"watermelon\",\"banana\")\n",
    "# (green,yellow,red,black)=fruits\n",
    "(green,yellow,*red)=fruits\n",
    "print(green)\n",
    "print(red)\n",
    "print(yellow)\n",
    "\n",
    "print(fruits)\n"
   ]
  },
  {
   "cell_type": "code",
   "execution_count": 70,
   "id": "c126d74b",
   "metadata": {},
   "outputs": [
    {
     "name": "stdout",
     "output_type": "stream",
     "text": [
      "('apple', 'orange', 'watermelon')\n",
      "3\n",
      "orange\n",
      "('apple', 'orange', 'watermelon', 'cherry')\n"
     ]
    }
   ],
   "source": [
    "fruits=(\"apple\",\"orange\",\"watermelon\")\n",
    "print(fruits)\n",
    "print(len(fruits))\n",
    "\n",
    "print(fruits[1])\n",
    "y=(\"cherry\",)\n",
    "fruits+=y\n",
    "print(fruits)"
   ]
  },
  {
   "cell_type": "code",
   "execution_count": 58,
   "id": "bfd9fd42",
   "metadata": {},
   "outputs": [
    {
     "name": "stdout",
     "output_type": "stream",
     "text": [
      "{'7', '5', '3'}\n"
     ]
    }
   ],
   "source": [
    "set1={\"1\",\"3\",\"5\",\"7\"}\n",
    "set2= {\"2\",\"4\",\"6\",\"8\"}\n",
    "set1.remove(\"1\")\n",
    "print(set1)\n",
    "set1.discard(\"1\")"
   ]
  },
  {
   "cell_type": "code",
   "execution_count": 59,
   "id": "2167db95",
   "metadata": {},
   "outputs": [
    {
     "ename": "ValueError",
     "evalue": "list.remove(x): x not in list",
     "output_type": "error",
     "traceback": [
      "\u001b[31m---------------------------------------------------------------------------\u001b[39m",
      "\u001b[31mValueError\u001b[39m                                Traceback (most recent call last)",
      "\u001b[36mCell\u001b[39m\u001b[36m \u001b[39m\u001b[32mIn[59]\u001b[39m\u001b[32m, line 1\u001b[39m\n\u001b[32m----> \u001b[39m\u001b[32m1\u001b[39m \u001b[43mfruits\u001b[49m\u001b[43m.\u001b[49m\u001b[43mremove\u001b[49m\u001b[43m(\u001b[49m\u001b[33;43m\"\u001b[39;49m\u001b[33;43mapple\u001b[39;49m\u001b[33;43m\"\u001b[39;49m\u001b[43m)\u001b[49m\n\u001b[32m      2\u001b[39m fruits.pop()\n\u001b[32m      3\u001b[39m \u001b[38;5;28mprint\u001b[39m(fruits)\n",
      "\u001b[31mValueError\u001b[39m: list.remove(x): x not in list"
     ]
    }
   ],
   "source": [
    "fruits.remove(\"apple\")\n",
    "fruits.pop()\n",
    "print(fruits)\n"
   ]
  },
  {
   "cell_type": "code",
   "execution_count": 37,
   "id": "55513c47",
   "metadata": {},
   "outputs": [
    {
     "name": "stdout",
     "output_type": "stream",
     "text": [
      "{'apple', 'banana', 'orange', 'watermelon'}\n",
      "['__and__', '__class__', '__class_getitem__', '__contains__', '__delattr__', '__dir__', '__doc__', '__eq__', '__format__', '__ge__', '__getattribute__', '__getstate__', '__gt__', '__hash__', '__iand__', '__init__', '__init_subclass__', '__ior__', '__isub__', '__iter__', '__ixor__', '__le__', '__len__', '__lt__', '__ne__', '__new__', '__or__', '__rand__', '__reduce__', '__reduce_ex__', '__repr__', '__ror__', '__rsub__', '__rxor__', '__setattr__', '__sizeof__', '__str__', '__sub__', '__subclasshook__', '__xor__', 'add', 'clear', 'copy', 'difference', 'difference_update', 'discard', 'intersection', 'intersection_update', 'isdisjoint', 'issubset', 'issuperset', 'pop', 'remove', 'symmetric_difference', 'symmetric_difference_update', 'union', 'update']\n"
     ]
    }
   ],
   "source": [
    "fruits={\"apple\",\"orange\",\"banana\",\"watermelon\",\"watermelon\"}\n",
    "print(fruits)\n",
    "print(dir(fruits))\n",
    "#print(fruits[2]) yo hunna"
   ]
  },
  {
   "cell_type": "code",
   "execution_count": 28,
   "id": "938b059d",
   "metadata": {},
   "outputs": [
    {
     "name": "stdout",
     "output_type": "stream",
     "text": [
      "['APPLE', 'BANANA', 'CHERRY']\n"
     ]
    }
   ],
   "source": [
    "words = ['apple','banana','cherry']\n",
    "uppercased = [word.upper() for word in words]\n",
    "print(uppercased)"
   ]
  },
  {
   "cell_type": "code",
   "execution_count": 26,
   "id": "5ce97475",
   "metadata": {},
   "outputs": [
    {
     "name": "stdout",
     "output_type": "stream",
     "text": [
      "[2, 4, 6, 8, 10]\n"
     ]
    }
   ],
   "source": [
    "squares=[x*2 for x in range(1,6)]\n",
    "print(squares)"
   ]
  },
  {
   "cell_type": "code",
   "execution_count": 25,
   "id": "e2c90d5c",
   "metadata": {},
   "outputs": [
    {
     "name": "stdout",
     "output_type": "stream",
     "text": [
      "[4, 5, [6, 7, 8], 9]\n",
      "[6, 7, 8]\n",
      "7\n"
     ]
    }
   ],
   "source": [
    "list=[1,2,3,[4,5,[6,7,8],9]];\n",
    "print(list[3])\n",
    "print(list[3][2])\n",
    "print(list[3][2][1])"
   ]
  },
  {
   "cell_type": "code",
   "execution_count": 17,
   "id": "7d3b38bc",
   "metadata": {},
   "outputs": [
    {
     "name": "stdout",
     "output_type": "stream",
     "text": [
      "['orange', 'pineapple', 'banana', 'watermelon', 'apple']\n"
     ]
    }
   ],
   "source": [
    "fruits.append(\"apple\")\n",
    "fruits.remove(\"pineapple\")\n",
    "fruits.pop(fruits.index(\"apple\"))\n",
    "fruits.insert(1,\"pineapple\")\n",
    "print(fruits)"
   ]
  }
 ],
 "metadata": {
  "kernelspec": {
   "display_name": "Python 3",
   "language": "python",
   "name": "python3"
  },
  "language_info": {
   "codemirror_mode": {
    "name": "ipython",
    "version": 3
   },
   "file_extension": ".py",
   "mimetype": "text/x-python",
   "name": "python",
   "nbconvert_exporter": "python",
   "pygments_lexer": "ipython3",
   "version": "3.12.3"
  }
 },
 "nbformat": 4,
 "nbformat_minor": 5
}
