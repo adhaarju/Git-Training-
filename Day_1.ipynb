{
 "cells": [
  {
   "cell_type": "code",
   "execution_count": 7,
   "id": "24772529",
   "metadata": {},
   "outputs": [
    {
     "data": {
      "text/plain": [
       "int"
      ]
     },
     "execution_count": 7,
     "metadata": {},
     "output_type": "execute_result"
    }
   ],
   "source": [
    "type(a)"
   ]
  },
  {
   "cell_type": "code",
   "execution_count": 9,
   "id": "f68668b6",
   "metadata": {},
   "outputs": [
    {
     "name": "stdout",
     "output_type": "stream",
     "text": [
      "\"aarju adhikari\"\n"
     ]
    },
    {
     "data": {
      "text/plain": [
       "str"
      ]
     },
     "execution_count": 9,
     "metadata": {},
     "output_type": "execute_result"
    }
   ],
   "source": [
    "b='\"aarju adhikari\"'\n",
    "print(b)\n",
    "type(b)"
   ]
  },
  {
   "cell_type": "code",
   "execution_count": null,
   "id": "37708165",
   "metadata": {},
   "outputs": [
    {
     "name": "stdout",
     "output_type": "stream",
     "text": [
      "Aarju Adhikari 23102 20 BEIT\n"
     ]
    }
   ],
   "source": [
    "name=\"Aarju Adhikari\"\n",
    "roll_no=23102\n",
    "age=20\n",
    "faculty= \"BEIT\"\n",
    "print(name,roll_no,age,faculty)"
   ]
  },
  {
   "cell_type": "code",
   "execution_count": null,
   "id": "fe3d722f",
   "metadata": {},
   "outputs": [],
   "source": []
  },
  {
   "cell_type": "code",
   "execution_count": 31,
   "id": "9ef8f219",
   "metadata": {},
   "outputs": [
    {
     "name": "stdout",
     "output_type": "stream",
     "text": [
      "12\n"
     ]
    }
   ],
   "source": [
    "x=input(\"enter your name\")\n",
    "print(x)\n",
    "\n",
    "\n",
    "type(x)\n",
    "z=int(x)"
   ]
  },
  {
   "cell_type": "code",
   "execution_count": 54,
   "id": "44db3f8d",
   "metadata": {},
   "outputs": [
    {
     "name": "stdout",
     "output_type": "stream",
     "text": [
      " hello i am aarju \n",
      " HELLO I AM AARJU \n",
      "hello i am aarju\n",
      " Hello I Am Aarju \n",
      " hello i am Aakankshya \n",
      "['hello', 'i', 'am', 'aarju']\n",
      "['', 'hello', 'i', 'am', 'aarju', '']\n",
      " hello i am aarju \n"
     ]
    }
   ],
   "source": [
    "text=\" hello i am aarju \"\n",
    "print (text.lower())\n",
    "print (text.upper())\n",
    "print (text.strip())\n",
    "print (text.title())\n",
    "print (text.replace(\"aarju\",\"Aakankshya\"))\n",
    "print (text.split())\n",
    "print (text.split(\" \",-1))\n",
    "print(text)"
   ]
  },
  {
   "cell_type": "code",
   "execution_count": 47,
   "id": "561ac53c",
   "metadata": {},
   "outputs": [
    {
     "name": "stdout",
     "output_type": "stream",
     "text": [
      "nohtyp gninrael ma I\n"
     ]
    }
   ],
   "source": [
    "print(b[::-1])"
   ]
  },
  {
   "cell_type": "code",
   "execution_count": 46,
   "id": "8822d08e",
   "metadata": {},
   "outputs": [
    {
     "name": "stdout",
     "output_type": "stream",
     "text": [
      "Aarju Adh\n",
      "Ia er\n"
     ]
    }
   ],
   "source": [
    "n=\"Aarju Adhikari\"\n",
    "\n",
    "print(n[0:9])\n",
    "b=\"I am learning python\"\n",
    "print (b[0:9:2])"
   ]
  },
  {
   "cell_type": "code",
   "execution_count": 34,
   "id": "e68bcfa8",
   "metadata": {},
   "outputs": [
    {
     "name": "stdout",
     "output_type": "stream",
     "text": [
      "eligible\n"
     ]
    }
   ],
   "source": [
    "if z<18:\n",
    "    print(\"eligible\")"
   ]
  },
  {
   "cell_type": "code",
   "execution_count": 28,
   "id": "ed12288d",
   "metadata": {},
   "outputs": [
    {
     "name": "stdout",
     "output_type": "stream",
     "text": [
      "4\n"
     ]
    },
    {
     "data": {
      "text/plain": [
       "str"
      ]
     },
     "execution_count": 28,
     "metadata": {},
     "output_type": "execute_result"
    }
   ],
   "source": [
    "a=input()\n",
    "print(a)\n",
    "type(a)"
   ]
  },
  {
   "cell_type": "code",
   "execution_count": 24,
   "id": "e6147b57",
   "metadata": {},
   "outputs": [
    {
     "name": "stdout",
     "output_type": "stream",
     "text": [
      "2.0\n",
      "3.0\n",
      "(2-3j)\n"
     ]
    }
   ],
   "source": [
    "print(x.real)\n",
    "print(x.imag)\n",
    "print(x.conjugate())"
   ]
  },
  {
   "cell_type": "code",
   "execution_count": 20,
   "id": "4ac946bd",
   "metadata": {},
   "outputs": [
    {
     "name": "stdout",
     "output_type": "stream",
     "text": [
      "4.0\n"
     ]
    }
   ],
   "source": [
    "x=2+3j\n",
    "y=2+5j\n",
    "print(x.real+y.real)"
   ]
  },
  {
   "cell_type": "code",
   "execution_count": 15,
   "id": "5746bc23",
   "metadata": {},
   "outputs": [
    {
     "name": "stdout",
     "output_type": "stream",
     "text": [
      "1 2 3\n"
     ]
    }
   ],
   "source": [
    "a,b,c=1,2,3\n",
    "print(a,b,c)"
   ]
  },
  {
   "cell_type": "code",
   "execution_count": 14,
   "id": "b8410208",
   "metadata": {},
   "outputs": [
    {
     "name": "stdout",
     "output_type": "stream",
     "text": [
      "Aarju Adhikari {age}\n"
     ]
    }
   ],
   "source": [
    "print(f'{name}','{age}')"
   ]
  },
  {
   "cell_type": "code",
   "execution_count": 6,
   "id": "ff180381",
   "metadata": {},
   "outputs": [
    {
     "name": "stdout",
     "output_type": "stream",
     "text": [
      "10\n"
     ]
    }
   ],
   "source": [
    "a=10\n",
    "print(a)"
   ]
  },
  {
   "cell_type": "code",
   "execution_count": 5,
   "id": "87be0a72",
   "metadata": {},
   "outputs": [
    {
     "name": "stdout",
     "output_type": "stream",
     "text": [
      "hello World\n",
      "4\n",
      "22\n"
     ]
    }
   ],
   "source": [
    "print(\"hello World\")\n",
    "print(2+2)\n",
    "print(\"2\"+\"2\")"
   ]
  }
 ],
 "metadata": {
  "kernelspec": {
   "display_name": "Python 3",
   "language": "python",
   "name": "python3"
  },
  "language_info": {
   "codemirror_mode": {
    "name": "ipython",
    "version": 3
   },
   "file_extension": ".py",
   "mimetype": "text/x-python",
   "name": "python",
   "nbconvert_exporter": "python",
   "pygments_lexer": "ipython3",
   "version": "3.12.3"
  }
 },
 "nbformat": 4,
 "nbformat_minor": 5
}
